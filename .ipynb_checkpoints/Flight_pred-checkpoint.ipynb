{
 "cells": [
  {
   "cell_type": "code",
   "execution_count": null,
   "id": "b03c2cba",
   "metadata": {
    "scrolled": true
   },
   "outputs": [],
   "source": [
    "import pandas as pd\n",
    "import numpy as np\n",
    "\n",
    "df_train = pd.read_excel('Data_Train.xlsx')\n",
    "df_train.head()\n",
    "\n",
    "df_test = pd.read_excel('Test_set.xlsx')"
   ]
  },
  {
   "cell_type": "code",
   "execution_count": null,
   "id": "69ee8181",
   "metadata": {
    "scrolled": false
   },
   "outputs": [],
   "source": [
    "df_train.shape"
   ]
  },
  {
   "cell_type": "code",
   "execution_count": null,
   "id": "9ff137ca",
   "metadata": {
    "scrolled": true
   },
   "outputs": [],
   "source": [
    "df = df_train.copy()"
   ]
  },
  {
   "cell_type": "code",
   "execution_count": null,
   "id": "f68d07b4",
   "metadata": {
    "scrolled": true
   },
   "outputs": [],
   "source": [
    "df.head()"
   ]
  },
  {
   "cell_type": "code",
   "execution_count": null,
   "id": "106fff99",
   "metadata": {
    "scrolled": true
   },
   "outputs": [],
   "source": [
    "df.isna().sum()"
   ]
  },
  {
   "cell_type": "code",
   "execution_count": null,
   "id": "2deb35f5",
   "metadata": {
    "scrolled": true
   },
   "outputs": [],
   "source": [
    "df.dropna(how='any',axis=0,inplace=True)"
   ]
  },
  {
   "cell_type": "code",
   "execution_count": null,
   "id": "c744a5af",
   "metadata": {
    "scrolled": true
   },
   "outputs": [],
   "source": [
    "df.isna().sum()"
   ]
  },
  {
   "cell_type": "code",
   "execution_count": null,
   "id": "c6245e9a",
   "metadata": {
    "scrolled": true
   },
   "outputs": [],
   "source": [
    "df.dtypes"
   ]
  },
  {
   "cell_type": "code",
   "execution_count": null,
   "id": "b1210eaf",
   "metadata": {
    "scrolled": true
   },
   "outputs": [],
   "source": [
    "df1 = df.copy()\n",
    "df1['Departure'] = df1['Date_of_Journey'].apply(str) + ' ' + df1['Dep_Time'].apply(str)\n",
    "df1['Departure'] = pd.to_datetime(df1.Departure)\n",
    "df1.Duration.head()"
   ]
  },
  {
   "cell_type": "code",
   "execution_count": null,
   "id": "3cd51443",
   "metadata": {},
   "outputs": [],
   "source": [
    "def duration_mins(dur):\n",
    "    if len(dur)==2:\n",
    "        mins = int(dur[0][:-1])*60 + int(dur[1][:-1])\n",
    "    if len(dur)==1:\n",
    "        mins = int(dur[0][:-1])*60\n",
    "    return mins"
   ]
  },
  {
   "cell_type": "code",
   "execution_count": null,
   "id": "7e744966",
   "metadata": {
    "scrolled": true
   },
   "outputs": [],
   "source": [
    "df1['Duration'] = (((df1['Duration'].apply(lambda x: ((str(x)).strip()).split(' '))))).apply(duration_mins)\n",
    "df1.drop(['Date_of_Journey','Dep_Time','Route'],axis=1,inplace=True)\n",
    "df1.head()"
   ]
  },
  {
   "cell_type": "code",
   "execution_count": null,
   "id": "28aa025d",
   "metadata": {
    "scrolled": true
   },
   "outputs": [],
   "source": [
    "df1.replace({\n",
    "    'non-stop': 0,\n",
    "    '1 stop': 1,\n",
    "    '2 stops': 2,\n",
    "    '3 stops': 3,\n",
    "    '4 stops': 4}, inplace=True)\n",
    "df1['Total_Stops'] = df1.Total_Stops.apply(int)\n",
    "df1.head()"
   ]
  },
  {
   "cell_type": "code",
   "execution_count": null,
   "id": "6092e203",
   "metadata": {
    "scrolled": true
   },
   "outputs": [],
   "source": [
    "df1['Journey_day'] = df1.Departure.dt.day\n",
    "df1['Journey_month'] = df1.Departure.dt.month\n",
    "df1['Departure_hr'] = df1.Departure.dt.hour\n",
    "df1['Departure_min'] = df1.Departure.dt.minute\n",
    "df1['Arrival_hr'] = pd.to_datetime(df1.Arrival_Time).dt.hour\n",
    "df1['Arrival_min'] = pd.to_datetime(df1.Arrival_Time).dt.minute"
   ]
  },
  {
   "cell_type": "code",
   "execution_count": null,
   "id": "bd3f0602",
   "metadata": {
    "scrolled": false
   },
   "outputs": [],
   "source": [
    "df1.drop(['Arrival_Time','Departure'],axis=1,inplace=True)\n",
    "df1.head()"
   ]
  },
  {
   "cell_type": "code",
   "execution_count": null,
   "id": "0e332e83",
   "metadata": {
    "scrolled": false
   },
   "outputs": [],
   "source": [
    "import seaborn as sns\n",
    "import matplotlib.pyplot as plt\n",
    "%matplotlib inline\n",
    "\n",
    "plt.figure(figsize=(17,7))\n",
    "plt.title('Airline v Price')\n",
    "sns.boxplot(x='Airline', y='Price', data=df1.sort_values('Price',ascending=False))"
   ]
  },
  {
   "cell_type": "code",
   "execution_count": null,
   "id": "98b5b27f",
   "metadata": {
    "scrolled": false
   },
   "outputs": [],
   "source": [
    "plt.figure(figsize=(17,7))\n",
    "plt.title('Source v Price')\n",
    "sns.boxplot(x='Source', y='Price', data=df1.sort_values('Price',ascending=False))"
   ]
  },
  {
   "cell_type": "code",
   "execution_count": null,
   "id": "db947bde",
   "metadata": {},
   "outputs": [],
   "source": [
    "plt.figure(figsize=(17,7))\n",
    "plt.title('Destination v Price')\n",
    "sns.boxplot(x='Destination', y='Price', data=df1.sort_values('Price',ascending=False))"
   ]
  },
  {
   "cell_type": "code",
   "execution_count": null,
   "id": "22f888ff",
   "metadata": {},
   "outputs": [],
   "source": [
    "plt.figure(figsize=(17,7))\n",
    "plt.title('Total Stops v Price')\n",
    "sns.boxplot(x='Total_Stops', y='Price', data=df1.sort_values('Price',ascending=False))"
   ]
  },
  {
   "cell_type": "code",
   "execution_count": null,
   "id": "6441e481",
   "metadata": {
    "scrolled": false
   },
   "outputs": [],
   "source": [
    "plt.figure(figsize=(17,7))\n",
    "plt.title('Info v Price')\n",
    "sns.boxplot(x='Additional_Info', y='Price', data=df1.sort_values('Price',ascending=False))"
   ]
  },
  {
   "cell_type": "code",
   "execution_count": null,
   "id": "fe4264f1",
   "metadata": {
    "scrolled": true
   },
   "outputs": [],
   "source": [
    "df1.head()"
   ]
  },
  {
   "cell_type": "code",
   "execution_count": null,
   "id": "493f6bcc",
   "metadata": {},
   "outputs": [],
   "source": [
    "df1.drop('Additional_Info',axis=1,inplace=True)"
   ]
  },
  {
   "cell_type": "code",
   "execution_count": null,
   "id": "a753f858",
   "metadata": {},
   "outputs": [],
   "source": [
    "df1.shape"
   ]
  },
  {
   "cell_type": "code",
   "execution_count": null,
   "id": "4bffbafd",
   "metadata": {},
   "outputs": [],
   "source": [
    "df1 = df1[~(df1.Airline=='Trujet')]\n",
    "df1.shape"
   ]
  },
  {
   "cell_type": "code",
   "execution_count": null,
   "id": "fa2f60e8",
   "metadata": {
    "scrolled": true
   },
   "outputs": [],
   "source": [
    "df2 = df1.copy()\n",
    "dummies = pd.get_dummies(df2, columns=['Airline','Source','Destination'], drop_first=True)\n",
    "pd.set_option('display.max_columns', 100)\n",
    "dummies"
   ]
  },
  {
   "cell_type": "code",
   "execution_count": null,
   "id": "d6a12dc9",
   "metadata": {},
   "outputs": [],
   "source": [
    "train_data = dummies"
   ]
  },
  {
   "cell_type": "code",
   "execution_count": null,
   "id": "175a0185",
   "metadata": {
    "scrolled": true
   },
   "outputs": [],
   "source": [
    "df3 = pd.read_excel('Test_set.xlsx')\n",
    "df3.head()"
   ]
  },
  {
   "cell_type": "code",
   "execution_count": null,
   "id": "53add0a6",
   "metadata": {
    "scrolled": true
   },
   "outputs": [],
   "source": [
    "df3.dropna(how='any',axis=0,inplace=True)\n",
    "\n",
    "df4 = df3.copy()\n",
    "df4['Departure'] = df4['Date_of_Journey'].apply(str) + ' ' + df4['Dep_Time'].apply(str)\n",
    "df4['Departure'] = pd.to_datetime(df4.Departure)\n",
    "df1.Duration.head()\n",
    "\n",
    "def duration_mins(dur):\n",
    "    if len(dur)==2:\n",
    "        mins = int(dur[0][:-1])*60 + int(dur[1][:-1])\n",
    "    if len(dur)==1:\n",
    "        mins = int(dur[0][:-1])*60\n",
    "    return mins\n",
    "\n",
    "df4['Duration'] = (((df4['Duration'].apply(lambda x: ((str(x)).strip()).split(' '))))).apply(duration_mins)\n",
    "df4.drop(['Date_of_Journey','Dep_Time','Route'],axis=1,inplace=True)\n",
    "\n",
    "df4.replace({\n",
    "    'non-stop': 0,\n",
    "    '1 stop': 1,\n",
    "    '2 stops': 2,\n",
    "    '3 stops': 3,\n",
    "    '4 stops': 4}, inplace=True)\n",
    "\n",
    "df4['Total_Stops'] = df4.Total_Stops.apply(int)\n",
    "df4['Journey_day'] = df4.Departure.dt.day\n",
    "df4['Journey_month'] = df4.Departure.dt.month\n",
    "df4['Departure_hr'] = df4.Departure.dt.hour\n",
    "df4['Departure_min'] = df4.Departure.dt.minute\n",
    "df4['Arrival_hr'] = pd.to_datetime(df4.Arrival_Time).dt.hour\n",
    "df4['Arrival_min'] = pd.to_datetime(df4.Arrival_Time).dt.minute\n",
    "\n",
    "df4.drop(['Arrival_Time','Departure','Additional_Info'],axis=1,inplace=True)\n",
    "print(df4.dtypes)\n",
    "print(df4.Airline.value_counts())\n",
    "df5 = df4.copy()\n",
    "dummies1 = pd.get_dummies(df5, columns=['Airline','Source','Destination'], drop_first=True)\n",
    "pd.set_option('display.max_columns', 100)\n",
    "test_data = dummies1\n",
    "test_data"
   ]
  },
  {
   "cell_type": "code",
   "execution_count": null,
   "id": "2754e46f",
   "metadata": {
    "scrolled": false
   },
   "outputs": [],
   "source": [
    "X = train_data.drop('Price',axis=1)\n",
    "X.shape"
   ]
  },
  {
   "cell_type": "code",
   "execution_count": null,
   "id": "75ab8d30",
   "metadata": {},
   "outputs": [],
   "source": [
    "X.columns"
   ]
  },
  {
   "cell_type": "code",
   "execution_count": null,
   "id": "e298118f",
   "metadata": {
    "scrolled": false
   },
   "outputs": [],
   "source": [
    "y = train_data.Price\n",
    "y"
   ]
  },
  {
   "cell_type": "code",
   "execution_count": null,
   "id": "fef616ed",
   "metadata": {
    "scrolled": true
   },
   "outputs": [],
   "source": [
    "train_data.corr()"
   ]
  },
  {
   "cell_type": "code",
   "execution_count": null,
   "id": "7a84cef5",
   "metadata": {
    "scrolled": false
   },
   "outputs": [],
   "source": [
    "plt.figure(figsize=(20,20))\n",
    "sns.heatmap(train_data.corr(), annot=True, cmap='RdYlGn')\n",
    "plt.show()"
   ]
  },
  {
   "cell_type": "code",
   "execution_count": null,
   "id": "592254ce",
   "metadata": {
    "scrolled": true
   },
   "outputs": [],
   "source": [
    "from sklearn.ensemble import ExtraTreesRegressor\n",
    "selection = ExtraTreesRegressor()\n",
    "selection.fit(X, y)"
   ]
  },
  {
   "cell_type": "code",
   "execution_count": null,
   "id": "26230c48",
   "metadata": {
    "scrolled": true
   },
   "outputs": [],
   "source": [
    "print(selection.feature_importances_)"
   ]
  },
  {
   "cell_type": "code",
   "execution_count": null,
   "id": "40d9f148",
   "metadata": {
    "scrolled": false
   },
   "outputs": [],
   "source": [
    "plt.figure(figsize=(12,8))\n",
    "feat_importances = pd.Series(selection.feature_importances_, index=X.columns)\n",
    "feat_importances.nlargest(20).plot(kind='barh')\n",
    "plt.show()"
   ]
  },
  {
   "cell_type": "code",
   "execution_count": null,
   "id": "91eb0ab0",
   "metadata": {
    "scrolled": true
   },
   "outputs": [],
   "source": [
    "from sklearn.model_selection import train_test_split\n",
    "X_train, X_test, y_train, y_test = train_test_split(X, y, test_size=0.2, random_state=0)\n",
    "\n",
    "from sklearn.ensemble import RandomForestRegressor\n",
    "re = RandomForestRegressor()\n",
    "model = re.fit(X_train, y_train)"
   ]
  },
  {
   "cell_type": "code",
   "execution_count": null,
   "id": "1fbda2e5",
   "metadata": {
    "scrolled": true
   },
   "outputs": [],
   "source": [
    "model.score(X_test, y_test)"
   ]
  },
  {
   "cell_type": "code",
   "execution_count": null,
   "id": "d2e0aebc",
   "metadata": {
    "scrolled": true
   },
   "outputs": [],
   "source": [
    "model.score(X_train, y_train)"
   ]
  },
  {
   "cell_type": "code",
   "execution_count": null,
   "id": "219a941a",
   "metadata": {
    "scrolled": true
   },
   "outputs": [],
   "source": [
    "#Randomized Search CV\n",
    "\n",
    "n_estimators = [int(x) for x in np.linspace(start=100, stop=1200, num=12)]\n",
    "max_features = ['auto','sqrt']\n",
    "max_depth = [int(x) for x in np.linspace(5, 30, num=6)]\n",
    "min_samples_split = [2,5,10,15,100]\n",
    "min_samples_leaf = [1,2,3,10]\n",
    "\n",
    "rf_grid = {'n_estimators': n_estimators,\n",
    "          'max_features': max_features,\n",
    "          'max_depth': max_depth,\n",
    "          'min_samples_split': min_samples_split,\n",
    "          'min_samples_leaf': min_samples_leaf}\n",
    "\n",
    "from sklearn.model_selection import RandomizedSearchCV\n",
    "rf_random = RandomizedSearchCV(estimator=model, param_distributions=rf_grid, n_iter=10,  scoring='neg_mean_squared_error', cv=5, verbose=2, random_state=42)\n",
    "rf_random.fit(X_train, y_train)"
   ]
  },
  {
   "cell_type": "code",
   "execution_count": null,
   "id": "fa205a44",
   "metadata": {
    "scrolled": true
   },
   "outputs": [],
   "source": [
    "rf_random.best_params_"
   ]
  },
  {
   "cell_type": "code",
   "execution_count": null,
   "id": "5e9dabad",
   "metadata": {
    "scrolled": true
   },
   "outputs": [],
   "source": [
    "re = RandomForestRegressor(n_estimators=700, min_samples_split=15, min_samples_leaf=1, max_features='auto', max_depth=20)\n",
    "re.fit(X_train, y_train)"
   ]
  },
  {
   "cell_type": "code",
   "execution_count": null,
   "id": "b362e830",
   "metadata": {
    "scrolled": true
   },
   "outputs": [],
   "source": [
    "re.score(X_train, y_train)"
   ]
  },
  {
   "cell_type": "code",
   "execution_count": null,
   "id": "3545d7a8",
   "metadata": {
    "scrolled": false
   },
   "outputs": [],
   "source": [
    "re.score(X_test, y_test)"
   ]
  },
  {
   "cell_type": "code",
   "execution_count": null,
   "id": "0d26e82c",
   "metadata": {},
   "outputs": [],
   "source": [
    "y_pred1 = re.predict(X_test)\n",
    "y_pred2 = rf_random.predict(X_test)\n",
    "from sklearn.metrics import classification_report, confusion_matrix\n",
    "\n",
    "y_pred = []\n",
    "for i in y_pred1:\n",
    "    y_pred.append(int(i))\n",
    "y_pred1 = np.array(y_pred)\n",
    "\n",
    "y_pred = []\n",
    "for i in y_pred2:\n",
    "    y_pred.append(int(i))\n",
    "y_pred2 = np.array(y_pred)"
   ]
  },
  {
   "cell_type": "code",
   "execution_count": null,
   "id": "b54db42b",
   "metadata": {
    "scrolled": true
   },
   "outputs": [],
   "source": [
    "plt.figure(figsize=(17,7))\n",
    "sns.distplot(y_test-y_pred1)\n",
    "plt.show()"
   ]
  },
  {
   "cell_type": "code",
   "execution_count": null,
   "id": "7d647936",
   "metadata": {},
   "outputs": [],
   "source": [
    "plt.figure(figsize=(17,7))\n",
    "sns.distplot(y_test-y_pred2)\n",
    "plt.show()"
   ]
  },
  {
   "cell_type": "code",
   "execution_count": null,
   "id": "25386aee",
   "metadata": {},
   "outputs": [],
   "source": [
    "import pickle\n",
    "\n",
    "model = open('model.pickle', 'wb')\n",
    "pickle.dump(rf_random ,model)"
   ]
  },
  {
   "cell_type": "code",
   "execution_count": null,
   "id": "4d74b871",
   "metadata": {},
   "outputs": [],
   "source": [
    "model1 = open('model.pickle', 'rb')\n",
    "forest = pickle.load(model1)\n",
    "y_prediction = forest.predict(X_test)\n",
    "\n",
    "from sklearn import metrics\n",
    "\n",
    "metrics.r2_score(y_test,y_prediction)"
   ]
  },
  {
   "cell_type": "code",
   "execution_count": null,
   "id": "e2a03dd5",
   "metadata": {},
   "outputs": [],
   "source": []
  }
 ],
 "metadata": {
  "kernelspec": {
   "display_name": "Python 3 (ipykernel)",
   "language": "python",
   "name": "python3"
  },
  "language_info": {
   "codemirror_mode": {
    "name": "ipython",
    "version": 3
   },
   "file_extension": ".py",
   "mimetype": "text/x-python",
   "name": "python",
   "nbconvert_exporter": "python",
   "pygments_lexer": "ipython3",
   "version": "3.9.7"
  }
 },
 "nbformat": 4,
 "nbformat_minor": 5
}
